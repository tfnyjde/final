{
 "cells": [
  {
   "cell_type": "markdown",
   "metadata": {},
   "source": [
    "# Project Description"
   ]
  },
  {
   "cell_type": "markdown",
   "metadata": {},
   "source": [
    "Write a brief description of your project here. \n",
    "\n",
    "Note that projects should be self-sufficient, so make sure to provide enough information and context here for someone to understand what you are doing in your project, and why. \n",
    "\n",
    "\n",
    "<b> <u>Requirements</b></u><br>\n",
    "- Project description \n",
    "- 1 module OR script \n",
    "- Have at least 3 unique functions or methods\n",
    "- test file with >= tests\n"
   ]
  },
  {
   "cell_type": "markdown",
   "metadata": {},
   "source": [
    "## Project Code\n",
    "\n",
    "If it makes sense for your project, you can have code and outputs here in the notebook as well."
   ]
  },
  {
   "cell_type": "markdown",
   "metadata": {},
   "source": [
    "<b>Project Description</b><br>\n",
    "My code is supposed to allow you to create a ninja. Creating a class instance requires just a name and clan that the ninja will belong to. \n",
    "The methods are <i>nin_profile, chunin_exam, join_team and update.</i>\n",
    "\n",
    "- Nin_profile is supposed to give you a summary of your ninja before leveling it up. \n",
    "- Chunin_exam has your ninja participate in the chunin exam to increase their ranking from genin to chunin.\n",
    "- Join_team randomly adds your ninja to a team from a predetermined list of teams. \n",
    "- Update gives you an updated summary of your ninja after they have increased their rank and joined a team\n",
    "<br>\n",
    "\n",
    "Progression should be: \n",
    "- Create ninja \n",
    "- Ninja starts out at lowest level (Genin)\n",
    "- Ninja summary prints name, clan and genin rank\n",
    "- Ninja participates in chunin exam and randomly passes or fails \n",
    "    - If the ninja fails, their rank is unchanged\n",
    "    - If the ninja passes, their rank is updated from genin to chunin\n",
    "- Ninja joins a team (randomly assigned)\n",
    "- Updated ninja summary returns name, clan, updated rank and team."
   ]
  },
  {
   "cell_type": "code",
   "execution_count": 1,
   "metadata": {},
   "outputs": [],
   "source": [
    "#module or script\n",
    "from my_module.classes import Ninja\n",
    "#three unique methods listed under Class\n"
   ]
  },
  {
   "cell_type": "code",
   "execution_count": 2,
   "metadata": {},
   "outputs": [],
   "source": [
    "#test file with function tests \n",
    "from my_module.test_functions import test_nin_profile, test_chunin_exam, test_join_team"
   ]
  },
  {
   "cell_type": "code",
   "execution_count": 3,
   "metadata": {},
   "outputs": [],
   "source": [
    "import random\n",
    "#random?"
   ]
  },
  {
   "cell_type": "code",
   "execution_count": 4,
   "metadata": {
    "scrolled": true
   },
   "outputs": [
    {
     "data": {
      "text/plain": [
       "'Passed'"
      ]
     },
     "execution_count": 4,
     "metadata": {},
     "output_type": "execute_result"
    }
   ],
   "source": [
    "# Do a bunch of things.\n",
    "test_nin_profile()"
   ]
  },
  {
   "cell_type": "code",
   "execution_count": 5,
   "metadata": {},
   "outputs": [
    {
     "data": {
      "text/plain": [
       "'Passed'"
      ]
     },
     "execution_count": 5,
     "metadata": {},
     "output_type": "execute_result"
    }
   ],
   "source": [
    "test_chunin_exam()"
   ]
  },
  {
   "cell_type": "code",
   "execution_count": 6,
   "metadata": {},
   "outputs": [
    {
     "data": {
      "text/plain": [
       "'Passed'"
      ]
     },
     "execution_count": 6,
     "metadata": {},
     "output_type": "execute_result"
    }
   ],
   "source": [
    "test_join_team()"
   ]
  },
  {
   "cell_type": "code",
   "execution_count": 7,
   "metadata": {},
   "outputs": [],
   "source": [
    "#create ninja\n",
    "Sasuke = Ninja(\"Sasuke\", \"Uchiha Clan\")"
   ]
  },
  {
   "cell_type": "code",
   "execution_count": 8,
   "metadata": {},
   "outputs": [
    {
     "data": {
      "text/plain": [
       "'Sasuke is a genin from the Uchiha Clan'"
      ]
     },
     "execution_count": 8,
     "metadata": {},
     "output_type": "execute_result"
    }
   ],
   "source": [
    "#returns ninja summary\n",
    "Sasuke.nin_profile()"
   ]
  },
  {
   "cell_type": "code",
   "execution_count": 9,
   "metadata": {},
   "outputs": [
    {
     "data": {
      "text/plain": [
       "('Sasuke', 'Promoted to :', 'chunin')"
      ]
     },
     "execution_count": 9,
     "metadata": {},
     "output_type": "execute_result"
    }
   ],
   "source": [
    "#ninja participates in chunin exam\n",
    "Sasuke.chunin_exam()"
   ]
  },
  {
   "cell_type": "code",
   "execution_count": 10,
   "metadata": {},
   "outputs": [
    {
     "data": {
      "text/plain": [
       "'Sasuke has joined Team Guy'"
      ]
     },
     "execution_count": 10,
     "metadata": {},
     "output_type": "execute_result"
    }
   ],
   "source": [
    "#ninja joins a team\n",
    "Sasuke.join_team()\n"
   ]
  },
  {
   "cell_type": "code",
   "execution_count": 11,
   "metadata": {},
   "outputs": [
    {
     "name": "stdout",
     "output_type": "stream",
     "text": [
      "Sasuke is a chunin from the Uchiha Clan on Team Guy\n"
     ]
    }
   ],
   "source": [
    "#returns updated ninja summary\n",
    "Sasuke.update()"
   ]
  },
  {
   "cell_type": "code",
   "execution_count": 12,
   "metadata": {},
   "outputs": [
    {
     "name": "stdout",
     "output_type": "stream",
     "text": [
      "Sasuke learned Rasengan\n"
     ]
    }
   ],
   "source": [
    "Sasuke.learn_jutsu()"
   ]
  },
  {
   "cell_type": "code",
   "execution_count": 13,
   "metadata": {},
   "outputs": [
    {
     "name": "stdout",
     "output_type": "stream",
     "text": [
      "Sasuke Uchiha Clan chunin ['Rasengan'] Team Guy\n"
     ]
    }
   ],
   "source": [
    "print(Sasuke.name, Sasuke.clan, Sasuke.rank, Sasuke.jutsu, Sasuke.team)"
   ]
  },
  {
   "cell_type": "code",
   "execution_count": 14,
   "metadata": {},
   "outputs": [],
   "source": [
    "Sakura = Ninja(\"Sakura\", \"Haruno Clan\")\n"
   ]
  },
  {
   "cell_type": "code",
   "execution_count": 15,
   "metadata": {},
   "outputs": [
    {
     "data": {
      "text/plain": [
       "'Sakura is a genin from the Haruno Clan'"
      ]
     },
     "execution_count": 15,
     "metadata": {},
     "output_type": "execute_result"
    }
   ],
   "source": [
    "Sakura.nin_profile()"
   ]
  },
  {
   "cell_type": "code",
   "execution_count": 16,
   "metadata": {},
   "outputs": [
    {
     "data": {
      "text/plain": [
       "('Sakura', ' did not pass the chunin exam.')"
      ]
     },
     "execution_count": 16,
     "metadata": {},
     "output_type": "execute_result"
    }
   ],
   "source": [
    "Sakura.chunin_exam()\n"
   ]
  },
  {
   "cell_type": "code",
   "execution_count": 17,
   "metadata": {},
   "outputs": [
    {
     "data": {
      "text/plain": [
       "'Sakura has joined Team 8'"
      ]
     },
     "execution_count": 17,
     "metadata": {},
     "output_type": "execute_result"
    }
   ],
   "source": [
    "Sakura.join_team()\n"
   ]
  },
  {
   "cell_type": "code",
   "execution_count": 18,
   "metadata": {},
   "outputs": [
    {
     "name": "stdout",
     "output_type": "stream",
     "text": [
      "Sakura is a genin from the Haruno Clan on Team 8\n"
     ]
    }
   ],
   "source": [
    "Sakura.update()"
   ]
  },
  {
   "cell_type": "code",
   "execution_count": 19,
   "metadata": {},
   "outputs": [
    {
     "name": "stdout",
     "output_type": "stream",
     "text": [
      "Sakura Haruno Clan genin [] Team 8\n"
     ]
    }
   ],
   "source": [
    "print(Sakura.name, Sakura.clan, Sakura.rank, Sakura.jutsu, Sakura.team)"
   ]
  },
  {
   "cell_type": "code",
   "execution_count": 20,
   "metadata": {},
   "outputs": [
    {
     "name": "stdout",
     "output_type": "stream",
     "text": [
      "Sakura learned Chidori\n"
     ]
    }
   ],
   "source": [
    "Sakura.learn_jutsu()"
   ]
  },
  {
   "cell_type": "code",
   "execution_count": 21,
   "metadata": {},
   "outputs": [
    {
     "name": "stdout",
     "output_type": "stream",
     "text": [
      "Sakura Haruno Clan genin ['Chidori'] Team 8\n"
     ]
    }
   ],
   "source": [
    "print(Sakura.name, Sakura.clan, Sakura.rank, Sakura.jutsu, Sakura.team)"
   ]
  },
  {
   "cell_type": "code",
   "execution_count": 22,
   "metadata": {},
   "outputs": [],
   "source": [
    "# test it out\n",
    "Naruto = Ninja(\"Naruto\", \"Uzumaki Clan\")\n"
   ]
  },
  {
   "cell_type": "code",
   "execution_count": 23,
   "metadata": {},
   "outputs": [
    {
     "data": {
      "text/plain": [
       "'Naruto is a genin from the Uzumaki Clan'"
      ]
     },
     "execution_count": 23,
     "metadata": {},
     "output_type": "execute_result"
    }
   ],
   "source": [
    "Naruto.nin_profile()\n"
   ]
  },
  {
   "cell_type": "code",
   "execution_count": 24,
   "metadata": {},
   "outputs": [
    {
     "data": {
      "text/plain": [
       "('Naruto', 'Promoted to :', 'chunin')"
      ]
     },
     "execution_count": 24,
     "metadata": {},
     "output_type": "execute_result"
    }
   ],
   "source": [
    "Naruto.chunin_exam()\n"
   ]
  },
  {
   "cell_type": "code",
   "execution_count": 25,
   "metadata": {},
   "outputs": [
    {
     "data": {
      "text/plain": [
       "'Naruto has joined Team 8'"
      ]
     },
     "execution_count": 25,
     "metadata": {},
     "output_type": "execute_result"
    }
   ],
   "source": [
    "Naruto.join_team()\n"
   ]
  },
  {
   "cell_type": "code",
   "execution_count": 26,
   "metadata": {},
   "outputs": [
    {
     "name": "stdout",
     "output_type": "stream",
     "text": [
      "Naruto is a chunin from the Uzumaki Clan on Team 8\n"
     ]
    }
   ],
   "source": [
    "Naruto.update()\n"
   ]
  },
  {
   "cell_type": "code",
   "execution_count": 27,
   "metadata": {},
   "outputs": [
    {
     "name": "stdout",
     "output_type": "stream",
     "text": [
      "Naruto Uzumaki Clan chunin [] Team 8\n"
     ]
    }
   ],
   "source": [
    "print(Naruto.name, Naruto.clan, Naruto.rank, Naruto.jutsu, Naruto.team)"
   ]
  },
  {
   "cell_type": "code",
   "execution_count": 28,
   "metadata": {},
   "outputs": [
    {
     "name": "stdout",
     "output_type": "stream",
     "text": [
      "Naruto learned Rasengan\n"
     ]
    }
   ],
   "source": [
    "Naruto.learn_jutsu()"
   ]
  },
  {
   "cell_type": "code",
   "execution_count": 29,
   "metadata": {},
   "outputs": [
    {
     "name": "stdout",
     "output_type": "stream",
     "text": [
      "Naruto Uzumaki Clan chunin ['Rasengan'] Team 8\n"
     ]
    }
   ],
   "source": [
    "print(Naruto.name, Naruto.clan, Naruto.rank, Naruto.jutsu, Naruto.team)"
   ]
  },
  {
   "cell_type": "markdown",
   "metadata": {},
   "source": [
    "#### Extra Credit (*optional*)\n",
    "\n",
    "Replace all of this text with a brief explanation (~3 sentences) of: \n",
    "1. Your Python Background\n",
    "- I don't really have any background or experience with Python or coding in general. I've always been interested but also intimidated by coding. I've tried to teach myself a little bit about HTML a while ago. This was my first coding class that I took to fulfill my computer science requirement for my degree. \n",
    "2. How your project went above and beyond the requirements of the project and/or how you challenged yourself to learn something new with the final project\n",
    "- I honestly really struggled with this project. Half way through I almost decided to scrap my entire code and just try to submit the exam instead, but I also thought it would be more rewarding to debug and get my code to work (as simple as it is). I really struggled with getting my test functions to pass silently as well as getting my module to import to both the main jupytr notebook and my test function module. \n",
    "- I tried to go above and beyond the requirements by adding more than just 3 methods within my class. I would've liked to make the code itself more interactive. If I had more time, I would've liked to have made it more similar to a chatbox function where the user could input the required parameters and had the results been returned as a response rather than manually executing it with the code. \n",
    "- Something else I would've liked to add if I had more time is removing an option from my random choice list after it had already been assigned to an instance of my class. For example, if you run ninja_name.chunin_exam() over and over, you can essentially pass/fail multiple times as long as you re-execute the code. Instead, once ninja_name.chunin_exam() has executed and recieved the \"pass\" for the exam, it would then remove the other response \"failed\" from the list of options for that specific class instance. "
   ]
  }
 ],
 "metadata": {
  "kernelspec": {
   "display_name": "Python 3 (ipykernel)",
   "language": "python",
   "name": "python3"
  },
  "language_info": {
   "codemirror_mode": {
    "name": "ipython",
    "version": 3
   },
   "file_extension": ".py",
   "mimetype": "text/x-python",
   "name": "python",
   "nbconvert_exporter": "python",
   "pygments_lexer": "ipython3",
   "version": "3.9.5"
  }
 },
 "nbformat": 4,
 "nbformat_minor": 2
}
